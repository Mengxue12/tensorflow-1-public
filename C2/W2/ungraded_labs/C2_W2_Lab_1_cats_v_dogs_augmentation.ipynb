{
  "cells": [
    {
      "cell_type": "markdown",
      "metadata": {
        "id": "swZgTGDdbu2g"
      },
      "source": [
        "<a href=\"https://colab.research.google.com/github/https-deeplearning-ai/tensorflow-1-public/blob/master/C2/W2/ungraded_labs/C2_W2_Lab_1_cats_v_dogs_augmentation.ipynb\" target=\"_parent\"><img src=\"https://colab.research.google.com/assets/colab-badge.svg\" alt=\"Open In Colab\"/></a>"
      ]
    },
    {
      "cell_type": "markdown",
      "metadata": {
        "id": "gGxCD4mGHHjG"
      },
      "source": [
        "# Ungraded Lab: Data Augmentation\n",
        "\n",
        "In the previous lessons, you saw that having a high training accuracy does not automatically mean having a good predictive model. It can still perform poorly on new data because it has overfit to the training set. In this lab, you will see how to avoid that using _data augmentation_. This increases the amount of training data by modifying the existing training data's properties. For example, in image data, you can apply different preprocessing techniques such as rotate, flip, shear, or zoom on your existing images so you can simulate other data that the model should also learn from. This way, the model would see more variety in the images during training so it will infer better on new, previously unseen data.\n",
        "\n",
        "Let's see how you can do this in the following sections."
      ]
    },
    {
      "cell_type": "markdown",
      "metadata": {
        "id": "kJJqX4DxcQs8"
      },
      "source": [
        "## Baseline Performance\n",
        "\n",
        "You will start with a model that's very effective at learning `Cats vs Dogs` without data augmentation. It's similar to the previous models that you have used. Note that there are four convolutional layers with 32, 64, 128 and 128 convolutions respectively. The code is basically the same from the previous lab so we won't go over the details step by step since you've already seen it before.\n",
        "\n",
        "You will train only for 20 epochs to save time but feel free to increase this if you want."
      ]
    },
    {
      "cell_type": "code",
      "execution_count": 1,
      "metadata": {
        "id": "zJZIF29-dIRv",
        "colab": {
          "base_uri": "https://localhost:8080/"
        },
        "outputId": "a71474a0-effd-42eb-eeb9-090127babd32"
      },
      "outputs": [
        {
          "output_type": "stream",
          "name": "stdout",
          "text": [
            "Access denied with the following error:\n",
            "\n",
            " \tCannot retrieve the public link of the file. You may need to change\n",
            "\tthe permission to 'Anyone with the link', or have had many accesses. \n",
            "\n",
            "You may still be able to access the file from the browser:\n",
            "\n",
            "\t https://drive.google.com/uc?id=1RL0T7Rg4XqQNRCkjfnLo4goOJQ7XZro9 \n",
            "\n"
          ]
        }
      ],
      "source": [
        "# Download the dataset\n",
        "!gdown --id 1RL0T7Rg4XqQNRCkjfnLo4goOJQ7XZro9"
      ]
    },
    {
      "cell_type": "code",
      "execution_count": 7,
      "metadata": {
        "id": "_DyUfCTgdwa8"
      },
      "outputs": [],
      "source": [
        "import os\n",
        "import zipfile\n",
        "\n",
        "# Extract the archive\n",
        "zip_ref = zipfile.ZipFile(\"./cats_and_dogs_filtered.zip\", 'r')\n",
        "zip_ref.extractall(\"tmp/\")\n",
        "zip_ref.close()\n",
        "\n",
        "# Assign training and validation set directories\n",
        "base_dir = 'tmp/cats_and_dogs_filtered'\n",
        "train_dir = os.path.join(base_dir, 'train')\n",
        "validation_dir = os.path.join(base_dir, 'validation')\n",
        "\n",
        "# Directory with training cat pictures\n",
        "train_cats_dir = os.path.join(train_dir, 'cats')\n",
        "\n",
        "# Directory with training dog pictures\n",
        "train_dogs_dir = os.path.join(train_dir, 'dogs')\n",
        "\n",
        "# Directory with validation cat pictures\n",
        "validation_cats_dir = os.path.join(validation_dir, 'cats')\n",
        "\n",
        "# Directory with validation dog pictures\n",
        "validation_dogs_dir = os.path.join(validation_dir, 'dogs')"
      ]
    },
    {
      "cell_type": "markdown",
      "metadata": {
        "id": "Ub_BdOJIfZ_Q"
      },
      "source": [
        "You will place the model creation inside a function so you can easily initialize a new one when you use data augmentation later in this notebook."
      ]
    },
    {
      "cell_type": "code",
      "execution_count": 8,
      "metadata": {
        "id": "uWllK_Wad-Mx"
      },
      "outputs": [],
      "source": [
        "import tensorflow as tf\n",
        "from tensorflow.keras.optimizers import RMSprop\n",
        "\n",
        "def create_model():\n",
        "  '''Creates a CNN with 4 convolutional layers'''\n",
        "  model = tf.keras.models.Sequential([\n",
        "      tf.keras.layers.Conv2D(32, (3,3), activation='relu', input_shape=(150, 150, 3)),\n",
        "      tf.keras.layers.MaxPooling2D(2, 2),\n",
        "      tf.keras.layers.Conv2D(64, (3,3), activation='relu'),\n",
        "      tf.keras.layers.MaxPooling2D(2,2),\n",
        "      tf.keras.layers.Conv2D(128, (3,3), activation='relu'),\n",
        "      tf.keras.layers.MaxPooling2D(2,2),\n",
        "      tf.keras.layers.Conv2D(128, (3,3), activation='relu'),\n",
        "      tf.keras.layers.MaxPooling2D(2,2),\n",
        "      tf.keras.layers.Flatten(),\n",
        "      tf.keras.layers.Dense(512, activation='relu'),\n",
        "      tf.keras.layers.Dense(1, activation='sigmoid')\n",
        "  ])\n",
        "\n",
        "  model.compile(loss='binary_crossentropy',\n",
        "                optimizer=RMSprop(learning_rate=1e-4),\n",
        "                metrics=['accuracy'])\n",
        "  \n",
        "  return model"
      ]
    },
    {
      "cell_type": "code",
      "execution_count": 9,
      "metadata": {
        "id": "MJPyDEzOqrKB",
        "colab": {
          "base_uri": "https://localhost:8080/"
        },
        "outputId": "77cfacee-0180-4c45-be16-7376afd3fe43"
      },
      "outputs": [
        {
          "output_type": "stream",
          "name": "stdout",
          "text": [
            "Found 2000 images belonging to 2 classes.\n",
            "Found 1000 images belonging to 2 classes.\n"
          ]
        }
      ],
      "source": [
        "from tensorflow.keras.preprocessing.image import ImageDataGenerator\n",
        "\n",
        "# All images will be rescaled by 1./255\n",
        "train_datagen = ImageDataGenerator(rescale=1./255)\n",
        "test_datagen = ImageDataGenerator(rescale=1./255)\n",
        "\n",
        "# Flow training images in batches of 20 using train_datagen generator\n",
        "train_generator = train_datagen.flow_from_directory(\n",
        "        train_dir,  # This is the source directory for training images\n",
        "        target_size=(150, 150),  # All images will be resized to 150x150\n",
        "        batch_size=20,\n",
        "        # Since we use binary_crossentropy loss, we need binary labels\n",
        "        class_mode='binary')\n",
        "\n",
        "# Flow validation images in batches of 20 using test_datagen generator\n",
        "validation_generator = test_datagen.flow_from_directory(\n",
        "        validation_dir,\n",
        "        target_size=(150, 150),\n",
        "        batch_size=20,\n",
        "        class_mode='binary')"
      ]
    },
    {
      "cell_type": "code",
      "execution_count": 10,
      "metadata": {
        "id": "hdqUoF44esR3",
        "colab": {
          "base_uri": "https://localhost:8080/"
        },
        "outputId": "9d2ec078-88fa-4b04-875b-7983899295fb"
      },
      "outputs": [
        {
          "output_type": "stream",
          "name": "stdout",
          "text": [
            "Epoch 1/20\n",
            "100/100 - 19s - loss: 0.6891 - accuracy: 0.5255 - val_loss: 0.6698 - val_accuracy: 0.5520 - 19s/epoch - 193ms/step\n",
            "Epoch 2/20\n",
            "100/100 - 8s - loss: 0.6569 - accuracy: 0.5975 - val_loss: 0.6326 - val_accuracy: 0.6520 - 8s/epoch - 84ms/step\n",
            "Epoch 3/20\n",
            "100/100 - 8s - loss: 0.6186 - accuracy: 0.6485 - val_loss: 0.6057 - val_accuracy: 0.6640 - 8s/epoch - 84ms/step\n",
            "Epoch 4/20\n",
            "100/100 - 8s - loss: 0.5801 - accuracy: 0.6945 - val_loss: 0.5745 - val_accuracy: 0.7060 - 8s/epoch - 84ms/step\n",
            "Epoch 5/20\n",
            "100/100 - 8s - loss: 0.5503 - accuracy: 0.7195 - val_loss: 0.5716 - val_accuracy: 0.6910 - 8s/epoch - 83ms/step\n",
            "Epoch 6/20\n",
            "100/100 - 8s - loss: 0.5183 - accuracy: 0.7415 - val_loss: 0.5694 - val_accuracy: 0.7090 - 8s/epoch - 83ms/step\n",
            "Epoch 7/20\n",
            "100/100 - 8s - loss: 0.4930 - accuracy: 0.7600 - val_loss: 0.5379 - val_accuracy: 0.7290 - 8s/epoch - 83ms/step\n",
            "Epoch 8/20\n",
            "100/100 - 8s - loss: 0.4707 - accuracy: 0.7740 - val_loss: 0.5251 - val_accuracy: 0.7420 - 8s/epoch - 84ms/step\n",
            "Epoch 9/20\n",
            "100/100 - 8s - loss: 0.4368 - accuracy: 0.7900 - val_loss: 0.5327 - val_accuracy: 0.7390 - 8s/epoch - 83ms/step\n",
            "Epoch 10/20\n",
            "100/100 - 8s - loss: 0.4136 - accuracy: 0.8050 - val_loss: 0.5200 - val_accuracy: 0.7400 - 8s/epoch - 83ms/step\n",
            "Epoch 11/20\n",
            "100/100 - 8s - loss: 0.3938 - accuracy: 0.8275 - val_loss: 0.5545 - val_accuracy: 0.7350 - 8s/epoch - 84ms/step\n",
            "Epoch 12/20\n",
            "100/100 - 8s - loss: 0.3729 - accuracy: 0.8220 - val_loss: 0.5296 - val_accuracy: 0.7410 - 8s/epoch - 83ms/step\n",
            "Epoch 13/20\n",
            "100/100 - 8s - loss: 0.3445 - accuracy: 0.8495 - val_loss: 0.5394 - val_accuracy: 0.7500 - 8s/epoch - 83ms/step\n",
            "Epoch 14/20\n",
            "100/100 - 9s - loss: 0.3264 - accuracy: 0.8580 - val_loss: 0.5392 - val_accuracy: 0.7470 - 9s/epoch - 90ms/step\n",
            "Epoch 15/20\n",
            "100/100 - 11s - loss: 0.3046 - accuracy: 0.8695 - val_loss: 0.5213 - val_accuracy: 0.7470 - 11s/epoch - 105ms/step\n",
            "Epoch 16/20\n",
            "100/100 - 9s - loss: 0.2842 - accuracy: 0.8920 - val_loss: 0.5541 - val_accuracy: 0.7420 - 9s/epoch - 90ms/step\n",
            "Epoch 17/20\n",
            "100/100 - 8s - loss: 0.2566 - accuracy: 0.9015 - val_loss: 0.5788 - val_accuracy: 0.7380 - 8s/epoch - 83ms/step\n",
            "Epoch 18/20\n",
            "100/100 - 8s - loss: 0.2374 - accuracy: 0.9020 - val_loss: 0.5765 - val_accuracy: 0.7410 - 8s/epoch - 85ms/step\n",
            "Epoch 19/20\n",
            "100/100 - 9s - loss: 0.2127 - accuracy: 0.9165 - val_loss: 0.5454 - val_accuracy: 0.7610 - 9s/epoch - 86ms/step\n",
            "Epoch 20/20\n",
            "100/100 - 8s - loss: 0.1966 - accuracy: 0.9285 - val_loss: 0.6752 - val_accuracy: 0.7380 - 8s/epoch - 84ms/step\n"
          ]
        }
      ],
      "source": [
        "# Constant for epochs\n",
        "EPOCHS = 20\n",
        "\n",
        "# Create a new model\n",
        "model = create_model()\n",
        "\n",
        "# Train the model\n",
        "history = model.fit(\n",
        "      train_generator,\n",
        "      steps_per_epoch=100,  # 2000 images = batch_size * steps\n",
        "      epochs=EPOCHS,\n",
        "      validation_data=validation_generator,\n",
        "      validation_steps=50,  # 1000 images = batch_size * steps\n",
        "      verbose=2)"
      ]
    },
    {
      "cell_type": "markdown",
      "metadata": {
        "id": "Y-G0Am4cguNt"
      },
      "source": [
        "You will then visualize the loss and accuracy with respect to the training and validation set. You will again use a convenience function so it can be reused later. This function accepts a [History](https://www.tensorflow.org/api_docs/python/tf/keras/callbacks/History) object which contains the results of the `fit()` method you ran above."
      ]
    },
    {
      "cell_type": "code",
      "execution_count": 11,
      "metadata": {
        "id": "GZWPcmKWO303"
      },
      "outputs": [],
      "source": [
        "import matplotlib.pyplot as plt\n",
        "\n",
        "def plot_loss_acc(history):\n",
        "  '''Plots the training and validation loss and accuracy from a history object'''\n",
        "  acc = history.history['accuracy']\n",
        "  val_acc = history.history['val_accuracy']\n",
        "  loss = history.history['loss']\n",
        "  val_loss = history.history['val_loss']\n",
        "\n",
        "  epochs = range(len(acc))\n",
        "\n",
        "  plt.plot(epochs, acc, 'bo', label='Training accuracy')\n",
        "  plt.plot(epochs, val_acc, 'b', label='Validation accuracy')\n",
        "  plt.title('Training and validation accuracy')\n",
        "\n",
        "  plt.figure()\n",
        "\n",
        "  plt.plot(epochs, loss, 'bo', label='Training Loss')\n",
        "  plt.plot(epochs, val_loss, 'b', label='Validation Loss')\n",
        "  plt.title('Training and validation loss')\n",
        "  plt.legend()\n",
        "\n",
        "  plt.show()"
      ]
    },
    {
      "cell_type": "code",
      "execution_count": 12,
      "metadata": {
        "id": "Vojz4NYXiT_f",
        "colab": {
          "base_uri": "https://localhost:8080/",
          "height": 545
        },
        "outputId": "0a714ad8-86f4-4708-b41f-523602f54205"
      },
      "outputs": [
        {
          "output_type": "display_data",
          "data": {
            "image/png": "[encoded data removed]",
            "text/plain": [
              "<Figure size 432x288 with 1 Axes>"
            ]
          },
          "metadata": {
            "needs_background": "light"
          }
        },
        {
          "output_type": "display_data",
          "data": {
            "image/png": "[encoded data removed]",
            "text/plain": [
              "<Figure size 432x288 with 1 Axes>"
            ]
          },
          "metadata": {
            "needs_background": "light"
          }
        }
      ],
      "source": [
        "# Plot training results\n",
        "plot_loss_acc(history)"
      ]
    },
    {
      "cell_type": "markdown",
      "source": [
        " - the neural network was terrific at finding a correlation between the images and labels of cats versus dogs for the 2,000 images that it was trained on, but once it tried to predict the images that it previously hadn't seen, it was about 70 percent accurate. "
      ],
      "metadata": {
        "id": "QlnDlICceduT"
      }
    },
    {
      "cell_type": "markdown",
      "metadata": {
        "id": "zb81GvNov-Tg"
      },
      "source": [
        "From the results above, you'll see the training accuracy is more than 90%, and the validation accuracy is in the 70%-80% range. This is a great example of _overfitting_ -- which in short means that it can do very well with images it has seen before, but not so well with images it hasn't.\n"
      ]
    },
    {
      "cell_type": "markdown",
      "metadata": {
        "id": "5KBz-vFbjLZX"
      },
      "source": [
        "## Data augmentation\n",
        "\n",
        "One simple method to avoid overfitting is to augment the images a bit. If you think about it, most pictures of a cat are very similar -- the ears are at the top, then the eyes, then the mouth etc. Things like the distance between the eyes and ears will always be quite similar too. \n",
        "\n",
        "What if you tweak with the images a bit -- rotate the image, squash it, etc.  That's what image augementation is all about. And there's an API that makes it easy!\n",
        "\n",
        "Take a look at the [ImageDataGenerator](https://www.tensorflow.org/api_docs/python/tf/keras/preprocessing/image/ImageDataGenerator) which you have been using to rescale the image. There are other properties on it that you can use to augment the image. \n",
        "\n",
        "```\n",
        "# Updated to do image augmentation\n",
        "train_datagen = ImageDataGenerator(\n",
        "      rotation_range=40,\n",
        "      width_shift_range=0.2,\n",
        "      height_shift_range=0.2,\n",
        "      shear_range=0.2,\n",
        "      zoom_range=0.2,\n",
        "      horizontal_flip=True,\n",
        "      fill_mode='nearest')\n",
        "```\n",
        "\n",
        "These are just a few of the options available. Let's quickly go over it:\n",
        "\n",
        "* `rotation_range` is a value in degrees (0–180) within which to randomly rotate pictures.\n",
        "* `width_shift` and `height_shift` are ranges (as a fraction of total width or height) within which to randomly translate pictures vertically or horizontally.\n",
        "* `shear_range` is for randomly applying shearing transformations.\n",
        "* `zoom_range` is for randomly zooming inside pictures.\n",
        "* `horizontal_flip` is for randomly flipping half of the images horizontally. This is relevant when there are no assumptions of horizontal assymmetry (e.g. real-world pictures).\n",
        "* `fill_mode` is the strategy used for filling in newly created pixels, which can appear after a rotation or a width/height shift.\n",
        "\n",
        "\n",
        "Run the next cells to see the impact on the results. The code is similar to the baseline but the definition of `train_datagen` has been updated to use the parameters described above.\n"
      ]
    },
    {
      "cell_type": "code",
      "execution_count": 13,
      "metadata": {
        "id": "UK7_Fflgv8YC",
        "colab": {
          "base_uri": "https://localhost:8080/"
        },
        "outputId": "d08a793f-774c-4a62-a737-6c7265e47bdf"
      },
      "outputs": [
        {
          "output_type": "stream",
          "name": "stdout",
          "text": [
            "Found 2000 images belonging to 2 classes.\n",
            "Found 1000 images belonging to 2 classes.\n",
            "Epoch 1/20\n",
            "100/100 - 18s - loss: 0.6923 - accuracy: 0.5255 - val_loss: 0.6797 - val_accuracy: 0.5480 - 18s/epoch - 176ms/step\n",
            "Epoch 2/20\n",
            "100/100 - 17s - loss: 0.6819 - accuracy: 0.5525 - val_loss: 0.6596 - val_accuracy: 0.6330 - 17s/epoch - 166ms/step\n",
            "Epoch 3/20\n",
            "100/100 - 17s - loss: 0.6676 - accuracy: 0.5845 - val_loss: 0.6391 - val_accuracy: 0.6360 - 17s/epoch - 165ms/step\n",
            "Epoch 4/20\n",
            "100/100 - 16s - loss: 0.6489 - accuracy: 0.6185 - val_loss: 0.6038 - val_accuracy: 0.6850 - 16s/epoch - 164ms/step\n",
            "Epoch 5/20\n",
            "100/100 - 17s - loss: 0.6250 - accuracy: 0.6535 - val_loss: 0.5895 - val_accuracy: 0.6860 - 17s/epoch - 165ms/step\n",
            "Epoch 6/20\n",
            "100/100 - 16s - loss: 0.6207 - accuracy: 0.6600 - val_loss: 0.5765 - val_accuracy: 0.7030 - 16s/epoch - 165ms/step\n",
            "Epoch 7/20\n",
            "100/100 - 17s - loss: 0.6045 - accuracy: 0.6745 - val_loss: 0.5937 - val_accuracy: 0.6660 - 17s/epoch - 166ms/step\n",
            "Epoch 8/20\n",
            "100/100 - 16s - loss: 0.5938 - accuracy: 0.6870 - val_loss: 0.5924 - val_accuracy: 0.6700 - 16s/epoch - 165ms/step\n",
            "Epoch 9/20\n",
            "100/100 - 16s - loss: 0.5928 - accuracy: 0.6855 - val_loss: 0.5831 - val_accuracy: 0.6820 - 16s/epoch - 165ms/step\n",
            "Epoch 10/20\n",
            "100/100 - 17s - loss: 0.5799 - accuracy: 0.6945 - val_loss: 0.5501 - val_accuracy: 0.7140 - 17s/epoch - 168ms/step\n",
            "Epoch 11/20\n",
            "100/100 - 17s - loss: 0.5802 - accuracy: 0.6940 - val_loss: 0.5748 - val_accuracy: 0.6750 - 17s/epoch - 165ms/step\n",
            "Epoch 12/20\n",
            "100/100 - 17s - loss: 0.5726 - accuracy: 0.7030 - val_loss: 0.5505 - val_accuracy: 0.7100 - 17s/epoch - 166ms/step\n",
            "Epoch 13/20\n",
            "100/100 - 17s - loss: 0.5675 - accuracy: 0.7050 - val_loss: 0.5339 - val_accuracy: 0.7190 - 17s/epoch - 166ms/step\n",
            "Epoch 14/20\n",
            "100/100 - 16s - loss: 0.5654 - accuracy: 0.7075 - val_loss: 0.5717 - val_accuracy: 0.6890 - 16s/epoch - 164ms/step\n",
            "Epoch 15/20\n",
            "100/100 - 17s - loss: 0.5645 - accuracy: 0.7015 - val_loss: 0.5166 - val_accuracy: 0.7330 - 17s/epoch - 168ms/step\n",
            "Epoch 16/20\n",
            "100/100 - 17s - loss: 0.5611 - accuracy: 0.7045 - val_loss: 0.5144 - val_accuracy: 0.7510 - 17s/epoch - 165ms/step\n",
            "Epoch 17/20\n",
            "100/100 - 19s - loss: 0.5406 - accuracy: 0.7205 - val_loss: 0.5113 - val_accuracy: 0.7340 - 19s/epoch - 191ms/step\n",
            "Epoch 18/20\n",
            "100/100 - 17s - loss: 0.5462 - accuracy: 0.7095 - val_loss: 0.5209 - val_accuracy: 0.7380 - 17s/epoch - 166ms/step\n",
            "Epoch 19/20\n",
            "100/100 - 17s - loss: 0.5484 - accuracy: 0.7140 - val_loss: 0.5105 - val_accuracy: 0.7460 - 17s/epoch - 167ms/step\n",
            "Epoch 20/20\n",
            "100/100 - 16s - loss: 0.5480 - accuracy: 0.7225 - val_loss: 0.5270 - val_accuracy: 0.7280 - 16s/epoch - 165ms/step\n"
          ]
        }
      ],
      "source": [
        "# Create new model\n",
        "model_for_aug = create_model()\n",
        "\n",
        "# This code has changed. Now instead of the ImageGenerator just rescaling\n",
        "# the image, we also rotate and do other operations\n",
        "train_datagen = ImageDataGenerator(\n",
        "      rescale=1./255,\n",
        "      rotation_range=40,\n",
        "      width_shift_range=0.2,\n",
        "      height_shift_range=0.2,\n",
        "      shear_range=0.2,\n",
        "      zoom_range=0.2,\n",
        "      horizontal_flip=True,\n",
        "      fill_mode='nearest')\n",
        "\n",
        "test_datagen = ImageDataGenerator(rescale=1./255)\n",
        "\n",
        "# Flow training images in batches of 20 using train_datagen generator\n",
        "train_generator = train_datagen.flow_from_directory(\n",
        "        train_dir,  # This is the source directory for training images\n",
        "        target_size=(150, 150),  # All images will be resized to 150x150\n",
        "        batch_size=20,\n",
        "        # Since we use binary_crossentropy loss, we need binary labels\n",
        "        class_mode='binary')\n",
        "\n",
        "# Flow validation images in batches of 20 using test_datagen generator\n",
        "validation_generator = test_datagen.flow_from_directory(\n",
        "        validation_dir,\n",
        "        target_size=(150, 150),\n",
        "        batch_size=20,\n",
        "        class_mode='binary')\n",
        "\n",
        "# Train the new model\n",
        "history_with_aug = model_for_aug.fit(\n",
        "      train_generator,\n",
        "      steps_per_epoch=100,  # 2000 images = batch_size * steps\n",
        "      epochs=EPOCHS,\n",
        "      validation_data=validation_generator,\n",
        "      validation_steps=50,  # 1000 images = batch_size * steps\n",
        "      verbose=2)"
      ]
    },
    {
      "cell_type": "code",
      "execution_count": 14,
      "metadata": {
        "id": "bnyRnwopT5aW",
        "colab": {
          "base_uri": "https://localhost:8080/",
          "height": 545
        },
        "outputId": "ce12b661-4b91-4d96-d6ac-670e0f61be53"
      },
      "outputs": [
        {
          "output_type": "display_data",
          "data": {
            "image/png": "[encoded data removed]",
            "text/plain": [
              "<Figure size 432x288 with 1 Axes>"
            ]
          },
          "metadata": {
            "needs_background": "light"
          }
        },
        {
          "output_type": "display_data",
          "data": {
            "image/png": "[encoded data removed]",
            "text/plain": [
              "<Figure size 432x288 with 1 Axes>"
            ]
          },
          "metadata": {
            "needs_background": "light"
          }
        }
      ],
      "source": [
        "# Plot the results of training with data augmentation\n",
        "plot_loss_acc(history_with_aug)"
      ]
    },
    {
      "cell_type": "markdown",
      "metadata": {
        "id": "1D1hd5fqmJUx"
      },
      "source": [
        "As you can see, the training accuracy has gone down compared to the baseline. This is expected because (as a result of data augmentation) there are more variety in the images so the model will need more runs to learn from them. The good thing is the validation accuracy is no longer stalling and is more in line with the training results. This means that the model is now performing better on unseen data. \n",
        "\n",
        "\n"
      ]
    },
    {
      "cell_type": "markdown",
      "metadata": {
        "id": "z4B9b6GPnKg1"
      },
      "source": [
        "## Wrap Up\n",
        "\n",
        "This exercise showed a simple trick to avoid overfitting. You can improve your baseline results by simply tweaking the same images you have already. The `ImageDataGenerator` class has built-in parameters to do just that. Try to modify the values some more in the `train_datagen` and see what results you get.\n",
        "\n",
        "Take note that this will not work for all cases. In the next lesson, Laurence will show a scenario where data augmentation will not help improve your validation accuracy."
      ]
    }
  ],
  "metadata": {
    "accelerator": "GPU",
    "colab": {
      "collapsed_sections": [],
      "name": "C2_W2_Lab_1_cats_v_dogs_augmentation.ipynb",
      "provenance": []
    },
    "kernelspec": {
      "display_name": "Python 3",
      "language": "python",
      "name": "python3"
    },
    "language_info": {
      "codemirror_mode": {
        "name": "ipython",
        "version": 3
      },
      "file_extension": ".py",
      "mimetype": "text/x-python",
      "name": "python",
      "nbconvert_exporter": "python",
      "pygments_lexer": "ipython3",
      "version": "3.7.4"
    }
  },
  "nbformat": 4,
  "nbformat_minor": 0
}